{
 "cells": [
  {
   "cell_type": "code",
   "execution_count": 1,
   "id": "308b76ed",
   "metadata": {},
   "outputs": [
    {
     "name": "stderr",
     "output_type": "stream",
     "text": [
      "2023-09-18 23:43:05.020457: I tensorflow/core/platform/cpu_feature_guard.cc:182] This TensorFlow binary is optimized to use available CPU instructions in performance-critical operations.\n",
      "To enable the following instructions: AVX2 FMA, in other operations, rebuild TensorFlow with the appropriate compiler flags.\n"
     ]
    }
   ],
   "source": [
    "import torch\n",
    "import random\n",
    "import numpy as np\n",
    "import tensorflow.keras.datasets as datasets"
   ]
  },
  {
   "cell_type": "code",
   "execution_count": 28,
   "id": "c644884d",
   "metadata": {},
   "outputs": [],
   "source": [
    "def MNIST_data():\n",
    "    (x_train, y_train), (x_test, y_test) = datasets.mnist.load_data()\n",
    "    x_train = x_train.reshape((60000, 28, 28, 1))\n",
    "    x_train = x_train / 255.0\n",
    "\n",
    "    return x_train, y_train\n",
    "\n",
    "def MNIST_test_data():\n",
    "    (x_train, y_train), (x_test, y_test) = datasets.mnist.load_data()\n",
    "    x_test = x_test.reshape((10000, 28, 28, 1))\n",
    "    x_test = x_test / 255.0\n",
    "\n",
    "    return x_test, y_test"
   ]
  },
  {
   "cell_type": "code",
   "execution_count": 3,
   "id": "6efaccb6",
   "metadata": {},
   "outputs": [],
   "source": [
    "def data_to_noisy(labels, rate):\n",
    "    data_cnt = len(labels)\n",
    "    noisy_cnt = int(rate*data_cnt)\n",
    "    \n",
    "    noisy_index = random.sample(range(0, data_cnt), noisy_cnt)\n",
    "    for index in noisy_index:\n",
    "        now_label = labels[index]\n",
    "        new_label = random.randint(0,9)\n",
    "        while (new_label == now_label):\n",
    "            new_label = random.randint(0,9)\n",
    "        labels[index] = new_label\n",
    "    \n",
    "    noisy_index.sort()\n",
    "    \n",
    "    return labels, noisy_index"
   ]
  },
  {
   "cell_type": "code",
   "execution_count": 4,
   "id": "f80de664",
   "metadata": {},
   "outputs": [],
   "source": [
    "class CNN(torch.nn.Module):\n",
    "\n",
    "    def __init__(self):\n",
    "        super(CNN, self).__init__()\n",
    "        self.keep_prob = 0.5\n",
    "        self.layer1 = torch.nn.Sequential(\n",
    "            torch.nn.Conv2d(1, 32, kernel_size=3, stride=1, padding=1),\n",
    "            torch.nn.ReLU(),\n",
    "            torch.nn.MaxPool2d(kernel_size=2, stride=2))\n",
    "        self.layer2 = torch.nn.Sequential(\n",
    "            torch.nn.Conv2d(32, 64, kernel_size=3, stride=1, padding=1),\n",
    "            torch.nn.ReLU(),\n",
    "            torch.nn.MaxPool2d(kernel_size=2, stride=2))\n",
    "        self.layer3 = torch.nn.Sequential(\n",
    "            torch.nn.Conv2d(64, 128, kernel_size=3, stride=1, padding=1),\n",
    "            torch.nn.ReLU(),\n",
    "            torch.nn.MaxPool2d(kernel_size=2, stride=2, padding=1))\n",
    "        self.fc1 = torch.nn.Linear(4 * 4 * 128, 625, bias=True)\n",
    "        torch.nn.init.xavier_uniform_(self.fc1.weight)\n",
    "        self.layer4 = torch.nn.Sequential(\n",
    "            self.fc1,\n",
    "            torch.nn.ReLU(),\n",
    "            torch.nn.Dropout(p=1 - self.keep_prob))\n",
    "        self.fc2 = torch.nn.Linear(625, 10, bias=True)\n",
    "        torch.nn.init.xavier_uniform_(self.fc2.weight)\n",
    "\n",
    "    def forward(self, x):\n",
    "        out = self.layer1(x)\n",
    "        out = self.layer2(out)\n",
    "        out = self.layer3(out)\n",
    "        out = out.view(out.size(0), -1)\n",
    "        out = self.layer4(out)\n",
    "        out = self.fc2(out)\n",
    "        return out"
   ]
  },
  {
   "cell_type": "code",
   "execution_count": 25,
   "id": "74163399",
   "metadata": {},
   "outputs": [],
   "source": [
    "epochs = 10\n",
    "batch_size = 100\n",
    "noisy_rate = 0.3\n",
    "\n",
    "true_loss = []\n",
    "noisy_loss = []\n",
    "true_loss_10 = []\n",
    "noisy_loss_10 = []\n",
    "\n",
    "true_labels = np.eye(10)\n",
    "X_noisy, Y_ = MNIST_data()\n",
    "X, Y = MNIST_data()\n",
    "X = np.array_split(X, len(X) / batch_size)\n",
    "Y = np.array_split(Y, len(Y) / batch_size)\n",
    "\n",
    "model = CNN()\n",
    "model2 = CNN()\n",
    "loss_fn = torch.nn.CrossEntropyLoss()\n",
    "optimizer = torch.optim.Adam(model.parameters(), lr=0.01)\n",
    "optimizer2 = torch.optim.Adam(model2.parameters(), lr=0.01)\n",
    "\n",
    "model.train()\n",
    "model2.train()\n",
    "\n",
    "cnt = 0\n",
    "Y_noisy, noisy_index = data_to_noisy(Y_, noisy_rate)\n",
    "noisy = noisy_index.pop(0)\n",
    "for x_train, y_train in zip(X_noisy, Y_noisy):\n",
    "    x_train = torch.Tensor(x_train.reshape(1, 1, 28, 28))\n",
    "    y_train = torch.Tensor(true_labels[y_train].reshape(1, 10))\n",
    "\n",
    "    optimizer.zero_grad()\n",
    "    y_pred = model(x_train)\n",
    "    loss = loss_fn(y_pred, y_train)\n",
    "    loss.backward()\n",
    "    optimizer.step()\n",
    "\n",
    "    if cnt == noisy:\n",
    "        noisy_loss.append(loss.item())\n",
    "        if len(noisy_index):\n",
    "            noisy = noisy_index.pop(0)\n",
    "    else: \n",
    "        true_loss.append(loss.item())\n",
    "\n",
    "    cnt += 1\n",
    "\n",
    "#============================================================================\n",
    "for epoch in range(epochs):\n",
    "    for x_train, y_train in zip(X, Y):\n",
    "        x_train = torch.Tensor(x_train.reshape(batch_size, 1, 28, 28))\n",
    "        y_train = torch.Tensor(true_labels[y_train].reshape(batch_size, 10))\n",
    "\n",
    "        optimizer2.zero_grad()\n",
    "        y_pred = model2(x_train)\n",
    "        loss = loss_fn(y_pred, y_train)\n",
    "        loss.backward()\n",
    "        optimizer.step()\n",
    "#============================================================================\n",
    "cnt = 0\n",
    "Y_noisy, noisy_index = data_to_noisy(Y_, noisy_rate)\n",
    "noisy = noisy_index.pop(0)\n",
    "for x_train, y_train in zip(X_noisy, Y_noisy):\n",
    "    x_train = torch.Tensor(x_train.reshape(1, 1, 28, 28))\n",
    "    y_train = torch.Tensor(true_labels[y_train].reshape(1, 10))\n",
    "\n",
    "    optimizer2.zero_grad()\n",
    "    y_pred = model2(x_train)\n",
    "    loss = loss_fn(y_pred, y_train)\n",
    "    loss.backward()\n",
    "    optimizer.step()\n",
    "\n",
    "    if cnt == noisy:\n",
    "        noisy_loss_10.append(loss.item())\n",
    "        if len(noisy_index):\n",
    "            noisy = noisy_index.pop(0)\n",
    "    else: \n",
    "        true_loss_10.append(loss.item())\n",
    "\n",
    "    cnt += 1"
   ]
  },
  {
   "cell_type": "code",
   "execution_count": 26,
   "id": "994ecd37",
   "metadata": {},
   "outputs": [
    {
     "name": "stdout",
     "output_type": "stream",
     "text": [
      "2.3107564985837254\n",
      "2.3104733042120933\n",
      "2.3109339704116185\n",
      "2.3074475865032937\n"
     ]
    }
   ],
   "source": [
    "print(sum(true_loss) / len(true_loss))\n",
    "print(sum(noisy_loss) / len(noisy_loss))\n",
    "print(sum(true_loss_10) / len(true_loss_10))\n",
    "print(sum(noisy_loss_10) / len(noisy_loss_10))"
   ]
  },
  {
   "cell_type": "code",
   "execution_count": 29,
   "id": "c05755be",
   "metadata": {},
   "outputs": [
    {
     "name": "stdout",
     "output_type": "stream",
     "text": [
      "Accuracy: 0.09740000218153\n",
      "Accuracy: 0.09570000320672989\n"
     ]
    }
   ],
   "source": [
    "x_test, y_test = MNIST_test_data()\n",
    "model.eval()\n",
    "model2.eval()\n",
    "with torch.no_grad():\n",
    "        x_test = torch.Tensor(x_test.reshape(len(x_test), 1, 28, 28))\n",
    "        y_test = torch.Tensor(y_test)\n",
    "\n",
    "        prediction = model(x_test)\n",
    "        correct_prediction = torch.argmax(prediction, 1) == y_test\n",
    "        accuracy = correct_prediction.float().mean()\n",
    "        print('Accuracy:', accuracy.item())\n",
    "        \n",
    "        prediction = model2(x_test)\n",
    "        correct_prediction = torch.argmax(prediction, 1) == y_test\n",
    "        accuracy = correct_prediction.float().mean()\n",
    "        print('Accuracy:', accuracy.item())"
   ]
  },
  {
   "cell_type": "code",
   "execution_count": null,
   "id": "28965ea6",
   "metadata": {},
   "outputs": [],
   "source": []
  }
 ],
 "metadata": {
  "kernelspec": {
   "display_name": "Python 3 (ipykernel)",
   "language": "python",
   "name": "python3"
  },
  "language_info": {
   "codemirror_mode": {
    "name": "ipython",
    "version": 3
   },
   "file_extension": ".py",
   "mimetype": "text/x-python",
   "name": "python",
   "nbconvert_exporter": "python",
   "pygments_lexer": "ipython3",
   "version": "3.9.6"
  }
 },
 "nbformat": 4,
 "nbformat_minor": 5
}
